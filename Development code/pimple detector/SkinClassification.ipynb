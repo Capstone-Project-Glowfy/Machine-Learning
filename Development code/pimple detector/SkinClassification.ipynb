{
  "cells": [
    {
      "cell_type": "code",
      "execution_count": null,
      "metadata": {
        "id": "8nvld7QuLGnZ"
      },
      "outputs": [],
      "source": [
        "\n",
        "# IMPORTANT: RUN THIS CELL IN ORDER TO IMPORT YOUR KAGGLE DATA SOURCES\n",
        "# TO THE CORRECT LOCATION (/kaggle/input) IN YOUR NOTEBOOK,\n",
        "# THEN FEEL FREE TO DELETE THIS CELL.\n",
        "# NOTE: THIS NOTEBOOK ENVIRONMENT DIFFERS FROM KAGGLE'S PYTHON\n",
        "# ENVIRONMENT SO THERE MAY BE MISSING LIBRARIES USED BY YOUR\n",
        "# NOTEBOOK.\n",
        "\n",
        "import os\n",
        "import sys\n",
        "from tempfile import NamedTemporaryFile\n",
        "from urllib.request import urlopen\n",
        "from urllib.parse import unquote, urlparse\n",
        "from urllib.error import HTTPError\n",
        "from zipfile import ZipFile\n",
        "import tarfile\n",
        "import shutil\n",
        "\n",
        "CHUNK_SIZE = 40960\n",
        "DATA_SOURCE_MAPPING = 'penyakit:https%3A%2F%2Fstorage.googleapis.com%2Fkaggle-data-sets%2F5133455%2F8583434%2Fbundle%2Farchive.zip%3FX-Goog-Algorithm%3DGOOG4-RSA-SHA256%26X-Goog-Credential%3Dgcp-kaggle-com%2540kaggle-161607.iam.gserviceaccount.com%252F20240602%252Fauto%252Fstorage%252Fgoog4_request%26X-Goog-Date%3D20240602T133840Z%26X-Goog-Expires%3D259200%26X-Goog-SignedHeaders%3Dhost%26X-Goog-Signature%3D3aa901dde5d5b07c6a0d556885bfbe9e15cf571daaedf187d6822dbd5c66182a74eea4b71047e489b30a7ae106031a5d6b87e66aabfb13404aaef69c6cc57a96e294913c2fd6880ff40207f1c3709360756eb984a9867a72a39aa763d38493c1195a3d1d90527782ff9845e722ca00ccc0b9ebf85bbddb08a28c9cc69e6e683813fd68a838ff3b80037a26d34e8e54e6e97b58bce6614d123663ed57f8e419a8b245cc5890185640967b3bd4951f09c97dafafae1ad6dba3db3b343c2f37708cd91f437afa01b8a20496f70250455c89b76e8bce7d942e9c2a8728ed24f9618e1359bee73f1b6b10f0e8d88c1d9a89799b4748d4cbba2683fd1dcef97543745f'\n",
        "\n",
        "KAGGLE_INPUT_PATH='/kaggle/input'\n",
        "KAGGLE_WORKING_PATH='/kaggle/working'\n",
        "KAGGLE_SYMLINK='kaggle'\n",
        "\n",
        "!umount /kaggle/input/ 2> /dev/null\n",
        "shutil.rmtree('/kaggle/input', ignore_errors=True)\n",
        "os.makedirs(KAGGLE_INPUT_PATH, 0o777, exist_ok=True)\n",
        "os.makedirs(KAGGLE_WORKING_PATH, 0o777, exist_ok=True)\n",
        "\n",
        "try:\n",
        "  os.symlink(KAGGLE_INPUT_PATH, os.path.join(\"..\", 'input'), target_is_directory=True)\n",
        "except FileExistsError:\n",
        "  pass\n",
        "try:\n",
        "  os.symlink(KAGGLE_WORKING_PATH, os.path.join(\"..\", 'working'), target_is_directory=True)\n",
        "except FileExistsError:\n",
        "  pass\n",
        "\n",
        "for data_source_mapping in DATA_SOURCE_MAPPING.split(','):\n",
        "    directory, download_url_encoded = data_source_mapping.split(':')\n",
        "    download_url = unquote(download_url_encoded)\n",
        "    filename = urlparse(download_url).path\n",
        "    destination_path = os.path.join(KAGGLE_INPUT_PATH, directory)\n",
        "    try:\n",
        "        with urlopen(download_url) as fileres, NamedTemporaryFile() as tfile:\n",
        "            total_length = fileres.headers['content-length']\n",
        "            print(f'Downloading {directory}, {total_length} bytes compressed')\n",
        "            dl = 0\n",
        "            data = fileres.read(CHUNK_SIZE)\n",
        "            while len(data) > 0:\n",
        "                dl += len(data)\n",
        "                tfile.write(data)\n",
        "                done = int(50 * dl / int(total_length))\n",
        "                sys.stdout.write(f\"\\r[{'=' * done}{' ' * (50-done)}] {dl} bytes downloaded\")\n",
        "                sys.stdout.flush()\n",
        "                data = fileres.read(CHUNK_SIZE)\n",
        "            if filename.endswith('.zip'):\n",
        "              with ZipFile(tfile) as zfile:\n",
        "                zfile.extractall(destination_path)\n",
        "            else:\n",
        "              with tarfile.open(tfile.name) as tarfile:\n",
        "                tarfile.extractall(destination_path)\n",
        "            print(f'\\nDownloaded and uncompressed: {directory}')\n",
        "    except HTTPError as e:\n",
        "        print(f'Failed to load (likely expired) {download_url} to path {destination_path}')\n",
        "        continue\n",
        "    except OSError as e:\n",
        "        print(f'Failed to load {download_url} to path {destination_path}')\n",
        "        continue\n",
        "\n",
        "print('Data source import complete.')\n"
      ]
    },
    {
      "cell_type": "markdown",
      "metadata": {
        "id": "2UMnmG4WLGnh"
      },
      "source": []
    },
    {
      "cell_type": "code",
      "execution_count": null,
      "metadata": {
        "execution": {
          "iopub.execute_input": "2024-06-02T11:11:58.080613Z",
          "iopub.status.busy": "2024-06-02T11:11:58.080133Z",
          "iopub.status.idle": "2024-06-02T11:12:04.045904Z",
          "shell.execute_reply": "2024-06-02T11:12:04.044866Z",
          "shell.execute_reply.started": "2024-06-02T11:11:58.080523Z"
        },
        "id": "qveGza7ALGnk",
        "trusted": true
      },
      "outputs": [],
      "source": [
        "import random\n",
        "import os\n",
        "import glob\n",
        "import time\n",
        "\n",
        "import pandas as pd\n",
        "import numpy as np\n",
        "import matplotlib.pyplot as plt\n",
        "import seaborn as sns\n",
        "\n",
        "import tensorflow as tf\n",
        "import tensorflow_hub as hub\n",
        "from tensorflow.keras import layers, Sequential\n",
        "from tensorflow.keras.utils import plot_model\n",
        "\n",
        "from sklearn.model_selection import train_test_split\n",
        "from sklearn.metrics import classification_report, precision_recall_fscore_support\n",
        "from sklearn.metrics import accuracy_score, f1_score, matthews_corrcoef\n",
        "from sklearn.metrics import confusion_matrix, ConfusionMatrixDisplay\n",
        "from scikitplot.metrics import plot_roc"
      ]
    },
    {
      "cell_type": "code",
      "execution_count": null,
      "metadata": {
        "execution": {
          "iopub.execute_input": "2024-06-02T11:12:04.048079Z",
          "iopub.status.busy": "2024-06-02T11:12:04.047575Z",
          "iopub.status.idle": "2024-06-02T11:12:04.053398Z",
          "shell.execute_reply": "2024-06-02T11:12:04.052245Z",
          "shell.execute_reply.started": "2024-06-02T11:12:04.048051Z"
        },
        "id": "9ZcKYPyBLGnm",
        "trusted": true
      },
      "outputs": [],
      "source": [
        "class CFG:\n",
        "    EPOCHS = 10\n",
        "    BATCH_SIZE = 32\n",
        "    SEED = 42\n",
        "    TF_SEED = 768\n",
        "    HEIGHT = 224\n",
        "    WIDTH = 224\n",
        "    CHANNELS = 3\n",
        "    IMAGE_SIZE = (224, 224, 3)"
      ]
    },
    {
      "cell_type": "markdown",
      "metadata": {
        "id": "CWNBgB9KLGnn"
      },
      "source": [
        "<a id='1'></a>\n",
        "# 1 **|** Inspecting The Dataset\n",
        "<div style=\"padding: 4px;color:white;margin:10;font-size:200%;text-align:center;display:fill;border-radius:10px;overflow:hidden;background-image: url(https://i.postimg.cc/KYdyWW8F/27525.jpg); background-size: 100% auto;\"></div>"
      ]
    },
    {
      "cell_type": "code",
      "execution_count": null,
      "metadata": {
        "execution": {
          "iopub.execute_input": "2024-06-02T11:12:04.054907Z",
          "iopub.status.busy": "2024-06-02T11:12:04.054644Z",
          "iopub.status.idle": "2024-06-02T11:12:04.077748Z",
          "shell.execute_reply": "2024-06-02T11:12:04.076883Z",
          "shell.execute_reply.started": "2024-06-02T11:12:04.054883Z"
        },
        "id": "XG0DEA22LGno",
        "trusted": true
      },
      "outputs": [],
      "source": [
        "# Define paths\n",
        "DATASET_PATH = \"/kaggle/input/penyakit/\"\n",
        "TRAIN_PATH = '/kaggle/input/penyakit/train/'\n",
        "TEST_PATH = '/kaggle/input/penyakit/test/'"
      ]
    },
    {
      "cell_type": "code",
      "execution_count": null,
      "metadata": {
        "execution": {
          "iopub.execute_input": "2024-06-02T11:12:04.080519Z",
          "iopub.status.busy": "2024-06-02T11:12:04.080168Z",
          "iopub.status.idle": "2024-06-02T11:12:05.910126Z",
          "shell.execute_reply": "2024-06-02T11:12:05.909137Z",
          "shell.execute_reply.started": "2024-06-02T11:12:04.080485Z"
        },
        "id": "lcQnSdesLGno",
        "trusted": true
      },
      "outputs": [],
      "source": [
        "# Generate a summary of the dataset\n",
        "print('DATASET SUMMARY')\n",
        "print('========================\\n')\n",
        "for dirpath, dirnames, filenames in os.walk(DATASET_PATH):\n",
        "    print(f\"There are {len(dirnames)} directories and {len(filenames)} images in {dirpath}\")\n",
        "print('\\n========================')"
      ]
    },
    {
      "cell_type": "markdown",
      "metadata": {
        "id": "ziTVqDYmLGnp"
      },
      "source": [
        "<a id='1.1'></a>\n",
        "### <font color='#478bd6'>Get image paths with glob</font>"
      ]
    },
    {
      "cell_type": "code",
      "execution_count": null,
      "metadata": {
        "execution": {
          "iopub.execute_input": "2024-06-02T11:12:05.9117Z",
          "iopub.status.busy": "2024-06-02T11:12:05.911318Z",
          "iopub.status.idle": "2024-06-02T11:12:05.932366Z",
          "shell.execute_reply": "2024-06-02T11:12:05.931469Z",
          "shell.execute_reply.started": "2024-06-02T11:12:05.911654Z"
        },
        "id": "NL7n-RivLGnq",
        "trusted": true
      },
      "outputs": [],
      "source": [
        "%%time\n",
        "train_images = glob.glob(f\"{TRAIN_PATH}**/*.jpg\")\n",
        "test_images = glob.glob(f\"{TEST_PATH}**/*.jpg\")"
      ]
    },
    {
      "cell_type": "markdown",
      "metadata": {
        "id": "CTeLCYjpLGnr"
      },
      "source": [
        "<a id='1.2'></a>\n",
        "### <font color='#478bd6'>View the number of images present in the dataset</font>"
      ]
    },
    {
      "cell_type": "code",
      "execution_count": null,
      "metadata": {
        "execution": {
          "iopub.execute_input": "2024-06-02T11:12:05.933922Z",
          "iopub.status.busy": "2024-06-02T11:12:05.933569Z",
          "iopub.status.idle": "2024-06-02T11:12:05.940685Z",
          "shell.execute_reply": "2024-06-02T11:12:05.939686Z",
          "shell.execute_reply.started": "2024-06-02T11:12:05.933885Z"
        },
        "id": "f-9MakN4LGns",
        "trusted": true
      },
      "outputs": [],
      "source": [
        "# Get train & test set sizes\n",
        "train_size = len(train_images)\n",
        "test_size = len(test_images)\n",
        "\n",
        "# Get dataset size\n",
        "total = train_size + test_size\n",
        "\n",
        "# View samples counts\n",
        "print(f'train samples count:\\t\\t{train_size}')\n",
        "print(f'test samples count:\\t\\t{test_size}')\n",
        "print('=======================================')\n",
        "print(f'TOTAL:\\t\\t\\t\\t{total}')"
      ]
    },
    {
      "cell_type": "markdown",
      "metadata": {
        "id": "qMrdVM2ALGns"
      },
      "source": [
        "<a id='1.3'></a>\n",
        "### <font color='#478bd6'>Create Pandas DataFrames for paths and labels</font>"
      ]
    },
    {
      "cell_type": "code",
      "execution_count": null,
      "metadata": {
        "execution": {
          "iopub.execute_input": "2024-06-02T11:12:05.942249Z",
          "iopub.status.busy": "2024-06-02T11:12:05.941889Z",
          "iopub.status.idle": "2024-06-02T11:12:05.950475Z",
          "shell.execute_reply": "2024-06-02T11:12:05.949542Z",
          "shell.execute_reply.started": "2024-06-02T11:12:05.942211Z"
        },
        "id": "tCsZ9p4fLGnt",
        "trusted": true
      },
      "outputs": [],
      "source": [
        "def generate_labels(image_paths):\n",
        "    return [_.split('/')[-2:][0] for _ in image_paths]\n",
        "\n",
        "\n",
        "def build_df(image_paths, labels):\n",
        "    # Create dataframe\n",
        "    df = pd.DataFrame({\n",
        "        'image_path': image_paths,\n",
        "        'label': generate_labels(labels)\n",
        "    })\n",
        "\n",
        "    # Generate label encodings\n",
        "    df['label_encoded'] = df.apply(lambda row: 0 if row.label == 'normal' else 1, axis=1)\n",
        "\n",
        "    # Shuffle and return df\n",
        "    return df.sample(frac=1, random_state=CFG.SEED).reset_index(drop=True)"
      ]
    },
    {
      "cell_type": "code",
      "execution_count": null,
      "metadata": {
        "execution": {
          "iopub.execute_input": "2024-06-02T11:12:05.952083Z",
          "iopub.status.busy": "2024-06-02T11:12:05.951812Z",
          "iopub.status.idle": "2024-06-02T11:12:06.025958Z",
          "shell.execute_reply": "2024-06-02T11:12:06.025048Z",
          "shell.execute_reply.started": "2024-06-02T11:12:05.952058Z"
        },
        "id": "GjuAwfRfLGnu",
        "trusted": true
      },
      "outputs": [],
      "source": [
        "# Build the DataFrames\n",
        "train_df = build_df(train_images, generate_labels(train_images))\n",
        "test_df = build_df(test_images, generate_labels(test_images))"
      ]
    },
    {
      "cell_type": "code",
      "execution_count": null,
      "metadata": {
        "execution": {
          "iopub.execute_input": "2024-06-02T11:12:06.027506Z",
          "iopub.status.busy": "2024-06-02T11:12:06.027127Z",
          "iopub.status.idle": "2024-06-02T11:12:06.042584Z",
          "shell.execute_reply": "2024-06-02T11:12:06.041704Z",
          "shell.execute_reply.started": "2024-06-02T11:12:06.02747Z"
        },
        "id": "8BvVoicBLGnu",
        "trusted": true
      },
      "outputs": [],
      "source": [
        "# View first 5 samples in the training set\n",
        "train_df.head(5)"
      ]
    },
    {
      "cell_type": "markdown",
      "metadata": {
        "id": "Pey1SyevLGnv"
      },
      "source": [
        "<a id='1.4'></a>\n",
        "### <font color='#478bd6'>Load & View Random Sample Image</font>"
      ]
    },
    {
      "cell_type": "code",
      "execution_count": null,
      "metadata": {
        "execution": {
          "iopub.execute_input": "2024-06-02T11:12:06.047053Z",
          "iopub.status.busy": "2024-06-02T11:12:06.046805Z",
          "iopub.status.idle": "2024-06-02T11:12:06.054811Z",
          "shell.execute_reply": "2024-06-02T11:12:06.053899Z",
          "shell.execute_reply.started": "2024-06-02T11:12:06.04703Z"
        },
        "id": "C913LLINLGnv",
        "trusted": true
      },
      "outputs": [],
      "source": [
        "def _load(image_path):\n",
        "    # Read and decode an image file to a uint8 tensor\n",
        "    image = tf.io.read_file(image_path)\n",
        "    image = tf.io.decode_jpeg(image, channels=3)\n",
        "\n",
        "    # Resize image\n",
        "    image = tf.image.resize(image, [CFG.HEIGHT, CFG.WIDTH],\n",
        "                            method=tf.image.ResizeMethod.LANCZOS3)\n",
        "\n",
        "    # Convert image dtype to float32 and NORMALIZE!!!\n",
        "    image = tf.cast(image, tf.float32)/255.\n",
        "\n",
        "    # Return image\n",
        "    return image\n",
        "\n",
        "def view_sample(image, label, color_map='rgb', fig_size=(8, 10)):\n",
        "    plt.figure(figsize=fig_size)\n",
        "\n",
        "    if color_map=='rgb':\n",
        "        plt.imshow(image)\n",
        "    else:\n",
        "        plt.imshow(tf.image.rgb_to_grayscale(image), cmap=color_map)\n",
        "\n",
        "    plt.title(f'Label: {label}', fontsize=16)\n",
        "    return"
      ]
    },
    {
      "cell_type": "code",
      "execution_count": null,
      "metadata": {
        "execution": {
          "iopub.execute_input": "2024-06-02T11:12:06.056096Z",
          "iopub.status.busy": "2024-06-02T11:12:06.055824Z",
          "iopub.status.idle": "2024-06-02T11:12:10.771748Z",
          "shell.execute_reply": "2024-06-02T11:12:10.770778Z",
          "shell.execute_reply.started": "2024-06-02T11:12:06.056072Z"
        },
        "id": "mqTNWJSWLGnv",
        "trusted": true
      },
      "outputs": [],
      "source": [
        "# Select random sample from train_df\n",
        "idx = random.sample(train_df.index.to_list(), 1)[0]\n",
        "\n",
        "# Load the random sample and label\n",
        "sample_image, sample_label = _load(train_df.image_path[idx]), train_df.label[idx]\n",
        "\n",
        "# View the random sample\n",
        "view_sample(sample_image, sample_label, color_map='inferno')"
      ]
    },
    {
      "cell_type": "markdown",
      "metadata": {
        "id": "qQYAYBLuLGnw"
      },
      "source": [
        "<a id='1.5'></a>\n",
        "### <font color='#478bd6'>View multiple random samples</font>"
      ]
    },
    {
      "cell_type": "code",
      "execution_count": null,
      "metadata": {
        "execution": {
          "iopub.execute_input": "2024-06-02T11:12:10.773247Z",
          "iopub.status.busy": "2024-06-02T11:12:10.772927Z",
          "iopub.status.idle": "2024-06-02T11:12:14.456912Z",
          "shell.execute_reply": "2024-06-02T11:12:14.455957Z",
          "shell.execute_reply.started": "2024-06-02T11:12:10.773188Z"
        },
        "id": "1krftzNcLGnw",
        "trusted": true
      },
      "outputs": [],
      "source": [
        "def view_mulitiple_samples(df, sample_loader, count=10, color_map='rgb', fig_size=(14, 10)):\n",
        "    rows = count//5\n",
        "    if count%5 > 0:\n",
        "        rows +=1\n",
        "\n",
        "    idx = random.sample(df.index.to_list(), count)\n",
        "    fig = plt.figure(figsize=fig_size)\n",
        "\n",
        "    for column, _ in enumerate(idx):\n",
        "        plt.subplot(rows, 5, column+1)\n",
        "        plt.title(f'Label: {df.label[_]}')\n",
        "\n",
        "        if color_map=='rgb':\n",
        "            plt.imshow(sample_loader(df.image_path[_]))\n",
        "        else:\n",
        "            plt.imshow(tf.image.rgb_to_grayscale(sample_loader(df.image_path[_])), cmap=color_map)\n",
        "\n",
        "    return\n",
        "\n",
        "view_mulitiple_samples(train_df, _load,\n",
        "                       count=25, color_map='inferno',\n",
        "                       fig_size=(20, 24))"
      ]
    },
    {
      "cell_type": "markdown",
      "metadata": {
        "id": "1-PyKyKJLGnw"
      },
      "source": [
        "<a id='1.6'></a>\n",
        "### <font color='#478bd6'>View Train Labels Distribution</font>"
      ]
    },
    {
      "cell_type": "code",
      "execution_count": null,
      "metadata": {
        "execution": {
          "iopub.execute_input": "2024-06-02T11:12:14.458692Z",
          "iopub.status.busy": "2024-06-02T11:12:14.458348Z",
          "iopub.status.idle": "2024-06-02T11:12:14.725803Z",
          "shell.execute_reply": "2024-06-02T11:12:14.724907Z",
          "shell.execute_reply.started": "2024-06-02T11:12:14.458662Z"
        },
        "id": "cn6-A7Y4LGnw",
        "trusted": true
      },
      "outputs": [],
      "source": [
        "fig, (ax1, ax2) = plt.subplots(2, figsize=(14, 10))\n",
        "\n",
        "# Set the spacing between subplots\n",
        "fig.tight_layout(pad=6.0)\n",
        "\n",
        "# Plot Train Labels Distribution\n",
        "ax1.set_title('Train Labels Distribution', fontsize=20)\n",
        "train_distribution = train_df['label'].value_counts().sort_values()\n",
        "sns.barplot(x=train_distribution.values,\n",
        "            y=list(train_distribution.keys()),\n",
        "            orient=\"h\",\n",
        "            ax=ax1)\n",
        "\n",
        "# Plot Test Labels Distribution\n",
        "ax2.set_title('Test Labels Distribution', fontsize=20)\n",
        "test_distribution = test_df['label'].value_counts().sort_values()\n",
        "sns.barplot(x=test_distribution.values,\n",
        "            y=list(test_distribution.keys()),\n",
        "            orient=\"h\",\n",
        "            ax=ax2);\n",
        "\n",
        "sns.despine();"
      ]
    },
    {
      "cell_type": "markdown",
      "metadata": {
        "id": "ZoXBybKMLGnx"
      },
      "source": []
    },
    {
      "cell_type": "markdown",
      "metadata": {
        "id": "DWBWxVdZLGnx"
      },
      "source": [
        "<a id='2.1'></a>\n",
        "### <font color='#478bd6'>Create Train & Validation Splits</font>"
      ]
    },
    {
      "cell_type": "code",
      "execution_count": null,
      "metadata": {
        "execution": {
          "iopub.execute_input": "2024-06-02T11:12:14.728015Z",
          "iopub.status.busy": "2024-06-02T11:12:14.727224Z",
          "iopub.status.idle": "2024-06-02T11:12:14.737116Z",
          "shell.execute_reply": "2024-06-02T11:12:14.736122Z",
          "shell.execute_reply.started": "2024-06-02T11:12:14.727975Z"
        },
        "id": "EBz9JhL1LGnx",
        "trusted": true
      },
      "outputs": [],
      "source": [
        "# Create Train/Val split with Training Set\n",
        "train_split_idx, val_split_idx, _, _ = train_test_split(train_df.index,\n",
        "                                                        train_df.label_encoded,\n",
        "                                                        test_size=0.15,\n",
        "                                                        stratify=train_df.label_encoded,\n",
        "                                                        random_state=CFG.SEED)"
      ]
    },
    {
      "cell_type": "code",
      "execution_count": null,
      "metadata": {
        "execution": {
          "iopub.execute_input": "2024-06-02T11:12:14.73875Z",
          "iopub.status.busy": "2024-06-02T11:12:14.738403Z",
          "iopub.status.idle": "2024-06-02T11:12:14.74799Z",
          "shell.execute_reply": "2024-06-02T11:12:14.747063Z",
          "shell.execute_reply.started": "2024-06-02T11:12:14.738721Z"
        },
        "id": "d-1gLlj7LGnx",
        "trusted": true
      },
      "outputs": [],
      "source": [
        "# Get new training and validation data\n",
        "train_new_df = train_df.iloc[train_split_idx].reset_index(drop=True)\n",
        "val_df = train_df.iloc[val_split_idx].reset_index(drop=True)\n",
        "\n",
        "# View shapes\n",
        "train_new_df.shape, val_df.shape"
      ]
    },
    {
      "cell_type": "markdown",
      "metadata": {
        "id": "rFo38gNnLGny"
      },
      "source": [
        "<a id='2.2'></a>\n",
        "### <font color='#478bd6'>View New Train & Validation Labels Distribution</font>"
      ]
    },
    {
      "cell_type": "code",
      "execution_count": null,
      "metadata": {
        "execution": {
          "iopub.execute_input": "2024-06-02T11:12:14.749698Z",
          "iopub.status.busy": "2024-06-02T11:12:14.749339Z",
          "iopub.status.idle": "2024-06-02T11:12:15.099397Z",
          "shell.execute_reply": "2024-06-02T11:12:15.098449Z",
          "shell.execute_reply.started": "2024-06-02T11:12:14.749663Z"
        },
        "id": "c5vzjzsSLGny",
        "trusted": true
      },
      "outputs": [],
      "source": [
        "fig, (ax1, ax2) = plt.subplots(2, figsize=(14, 10))\n",
        "\n",
        "# Set the spacing between subplots\n",
        "fig.tight_layout(pad=6.0)\n",
        "\n",
        "# Plot New Train Labels Distribution\n",
        "ax1.set_title('New Train Labels Distribution', fontsize=20)\n",
        "train_new_distribution = train_new_df['label'].value_counts().sort_values()\n",
        "sns.barplot(x=train_new_distribution.values,\n",
        "            y=list(train_new_distribution.keys()),\n",
        "            orient=\"h\",\n",
        "            ax=ax1)\n",
        "\n",
        "# Plot Validation Labels Distribution\n",
        "ax2.set_title('Validation Labels Distribution', fontsize=20)\n",
        "val_distribution = val_df['label'].value_counts().sort_values()\n",
        "sns.barplot(x=val_distribution.values,\n",
        "            y=list(val_distribution.keys()),\n",
        "            orient=\"h\",\n",
        "            ax=ax2);\n",
        "\n",
        "sns.despine();"
      ]
    },
    {
      "cell_type": "markdown",
      "metadata": {
        "id": "vsvexZDuLGny"
      },
      "source": [
        "<a id='2.3'></a>\n",
        "### <font color='#478bd6'>Create an Image Data Augmentation Layer</font>"
      ]
    },
    {
      "cell_type": "code",
      "execution_count": null,
      "metadata": {
        "execution": {
          "iopub.execute_input": "2024-06-02T11:12:15.10073Z",
          "iopub.status.busy": "2024-06-02T11:12:15.100448Z",
          "iopub.status.idle": "2024-06-02T11:12:15.144586Z",
          "shell.execute_reply": "2024-06-02T11:12:15.143676Z",
          "shell.execute_reply.started": "2024-06-02T11:12:15.100704Z"
        },
        "id": "6TYPR_88LGny",
        "trusted": true
      },
      "outputs": [],
      "source": [
        "# Build augmentation layer\n",
        "augmentation_layer = Sequential([\n",
        "    layers.RandomFlip(mode='horizontal_and_vertical', seed=CFG.TF_SEED),\n",
        "    layers.RandomZoom(height_factor=(-0.1, 0.1), width_factor=(-0.1, 0.1), seed=CFG.TF_SEED),\n",
        "], name='augmentation_layer')"
      ]
    },
    {
      "cell_type": "code",
      "execution_count": null,
      "metadata": {
        "execution": {
          "iopub.execute_input": "2024-06-02T11:12:15.146242Z",
          "iopub.status.busy": "2024-06-02T11:12:15.145853Z",
          "iopub.status.idle": "2024-06-02T11:12:15.811841Z",
          "shell.execute_reply": "2024-06-02T11:12:15.810949Z",
          "shell.execute_reply.started": "2024-06-02T11:12:15.146188Z"
        },
        "id": "t3J25DnsLGnz",
        "trusted": true
      },
      "outputs": [],
      "source": [
        "image = tf.image.rgb_to_grayscale(sample_image)\n",
        "\n",
        "fig, (ax1, ax2) = plt.subplots(1, 2, figsize=(14, 10))\n",
        "\n",
        "# Set the spacing between subplots\n",
        "fig.tight_layout(pad=6.0)\n",
        "\n",
        "# View Original Image\n",
        "ax1.set_title('Original Image', fontsize=20)\n",
        "ax1.imshow(image, cmap='inferno');\n",
        "\n",
        "# View Augmented Image\n",
        "ax2.set_title('Augmented Image', fontsize=20)\n",
        "ax2.imshow(augmentation_layer(image), cmap='inferno');"
      ]
    },
    {
      "cell_type": "markdown",
      "metadata": {
        "id": "ji0fGsPWLGnz"
      },
      "source": [
        "<a id='2.4'></a>\n",
        "### <font color='#478bd6'>Create Input Data Pipeline w. tf.data API</font>"
      ]
    },
    {
      "cell_type": "code",
      "execution_count": null,
      "metadata": {
        "execution": {
          "iopub.execute_input": "2024-06-02T11:12:15.814102Z",
          "iopub.status.busy": "2024-06-02T11:12:15.813338Z",
          "iopub.status.idle": "2024-06-02T11:12:15.828563Z",
          "shell.execute_reply": "2024-06-02T11:12:15.827497Z",
          "shell.execute_reply.started": "2024-06-02T11:12:15.814051Z"
        },
        "id": "MBTOlfNaLGnz",
        "trusted": true
      },
      "outputs": [],
      "source": [
        "def encode_labels(labels, encode_depth=2):\n",
        "    return tf.one_hot(labels, depth=encode_depth).numpy()\n",
        "\n",
        "def create_pipeline(df, load_function, augment=False, batch_size=32, shuffle=False, cache=None, prefetch=False):\n",
        "    '''\n",
        "    Generates an input pipeline using the tf.data API given a Pandas DataFrame and image loading function.\n",
        "\n",
        "    @params\n",
        "        - df: (pd.DataFrame) -> DataFrame containing paths and labels\n",
        "        - load_function: (function) -> function used to load images given their paths\n",
        "        - augment: (bool) -> condition for applying augmentation\n",
        "        - batch_size: (int) -> size for batched (default=32)\n",
        "        - shuffle: (bool) -> condition for data shuffling, data is shuffled when True (default=False)\n",
        "        - cache: (str) -> cache path for caching data, data is not cached when None (default=None)\n",
        "        - prefetch: (bool) -> condition for prefeching data, data is prefetched when True (default=False)\n",
        "\n",
        "    @returns\n",
        "        - dataset: (tf.data.Dataset) -> dataset input pipeline used to train a TensorFlow model\n",
        "    '''\n",
        "    # Get image paths and labels from DataFrame\n",
        "    image_paths = df.image_path\n",
        "    image_labels = encode_labels(df.label_encoded)\n",
        "    AUTOTUNE = tf.data.AUTOTUNE\n",
        "\n",
        "    # Create dataset with raw data from DataFrame\n",
        "    ds = tf.data.Dataset.from_tensor_slices((image_paths, image_labels))\n",
        "\n",
        "    # Map augmentation layer and load function to dataset inputs if augment is True\n",
        "    # Else map only the load function\n",
        "    if augment:\n",
        "        ds = ds.map(lambda x, y: (augmentation_layer(load_function(x)), y), num_parallel_calls=AUTOTUNE)\n",
        "    else:\n",
        "        ds = ds.map(lambda x, y: (load_function(x), y), num_parallel_calls=AUTOTUNE)\n",
        "\n",
        "    # Apply shuffling based on condition\n",
        "    if shuffle:\n",
        "        ds = ds.shuffle(buffer_size=1000)\n",
        "\n",
        "    # Apply batching\n",
        "    ds = ds.batch(batch_size)\n",
        "\n",
        "    # Apply caching based on condition\n",
        "    # Note: Use cache in memory (cache='') if the data is small enough to fit in memory!!!\n",
        "    if cache != None:\n",
        "        ds = ds.cache(cache)\n",
        "\n",
        "    # Apply prefetching based on condition\n",
        "    # Note: This will result in memory trade-offs\n",
        "    if prefetch:\n",
        "        ds = ds.prefetch(buffer_size=AUTOTUNE)\n",
        "\n",
        "    # Return the dataset\n",
        "    return ds"
      ]
    },
    {
      "cell_type": "code",
      "execution_count": null,
      "metadata": {
        "execution": {
          "iopub.execute_input": "2024-06-02T11:12:15.830062Z",
          "iopub.status.busy": "2024-06-02T11:12:15.829743Z",
          "iopub.status.idle": "2024-06-02T11:12:16.242069Z",
          "shell.execute_reply": "2024-06-02T11:12:16.241251Z",
          "shell.execute_reply.started": "2024-06-02T11:12:15.830022Z"
        },
        "id": "HxHSCcJ0LGn0",
        "trusted": true
      },
      "outputs": [],
      "source": [
        "# Generate Train Input Pipeline\n",
        "train_ds = create_pipeline(train_new_df, _load, augment=True,\n",
        "                           batch_size=CFG.BATCH_SIZE,\n",
        "                           shuffle=False, prefetch=True)\n",
        "\n",
        "# Generate Validation Input Pipeline\n",
        "val_ds = create_pipeline(val_df, _load,\n",
        "                         batch_size=CFG.BATCH_SIZE,\n",
        "                         shuffle=False, prefetch=False)\n",
        "\n",
        "# Generate Test Input Pipeline\n",
        "test_ds = create_pipeline(test_df, _load,\n",
        "                          batch_size=CFG.BATCH_SIZE,\n",
        "                          shuffle=False, prefetch=False)"
      ]
    },
    {
      "cell_type": "code",
      "execution_count": null,
      "metadata": {
        "execution": {
          "iopub.execute_input": "2024-06-02T11:12:16.243521Z",
          "iopub.status.busy": "2024-06-02T11:12:16.243212Z",
          "iopub.status.idle": "2024-06-02T11:12:16.250746Z",
          "shell.execute_reply": "2024-06-02T11:12:16.249828Z",
          "shell.execute_reply.started": "2024-06-02T11:12:16.243493Z"
        },
        "id": "p2ueoGPrLGn0",
        "trusted": true
      },
      "outputs": [],
      "source": [
        "# View string representation of datasets\n",
        "print('========================================')\n",
        "print('Train Input Data Pipeline:\\n\\n', train_ds)\n",
        "print('========================================')\n",
        "print('Validation Input Data Pipeline:\\n\\n', val_ds)\n",
        "print('========================================')\n",
        "print('Test Input Data Pipeline:\\n\\n', test_ds)\n",
        "print('========================================')"
      ]
    },
    {
      "cell_type": "markdown",
      "metadata": {
        "id": "v8XIynDtLGn0"
      },
      "source": []
    },
    {
      "cell_type": "markdown",
      "metadata": {
        "id": "l53wUtwHLGn0"
      },
      "source": [
        "<a id='3.2'></a>\n",
        "### <font color='#478bd6'>Define CNN Model</font>"
      ]
    },
    {
      "cell_type": "code",
      "execution_count": null,
      "metadata": {
        "execution": {
          "iopub.execute_input": "2024-06-02T11:12:16.252388Z",
          "iopub.status.busy": "2024-06-02T11:12:16.252026Z",
          "iopub.status.idle": "2024-06-02T11:12:16.263393Z",
          "shell.execute_reply": "2024-06-02T11:12:16.262506Z",
          "shell.execute_reply.started": "2024-06-02T11:12:16.25235Z"
        },
        "id": "B7gt7Y0oLGn-",
        "trusted": true
      },
      "outputs": [],
      "source": [
        "def cnn_model():\n",
        "\n",
        "    initializer = tf.keras.initializers.GlorotNormal()\n",
        "\n",
        "    cnn_sequential = Sequential([\n",
        "        layers.Input(shape=CFG.IMAGE_SIZE, dtype=tf.float32, name='input_image'),\n",
        "\n",
        "        layers.Conv2D(16, kernel_size=3, activation='relu', kernel_initializer=initializer),\n",
        "        layers.Conv2D(16, kernel_size=3, activation='relu', kernel_initializer=initializer),\n",
        "        layers.MaxPool2D(pool_size=2, padding='valid'),\n",
        "\n",
        "        layers.Conv2D(8, kernel_size=3, activation='relu', kernel_initializer=initializer),\n",
        "        layers.Conv2D(8, kernel_size=3, activation='relu', kernel_initializer=initializer),\n",
        "        layers.MaxPool2D(pool_size=2),\n",
        "\n",
        "        layers.Flatten(),\n",
        "        layers.Dropout(0.2),\n",
        "        layers.Dense(128, activation='relu', kernel_initializer=initializer),\n",
        "        layers.Dense(2, activation='sigmoid', kernel_initializer=initializer)\n",
        "    ], name='cnn_sequential_model')\n",
        "\n",
        "    return cnn_sequential"
      ]
    },
    {
      "cell_type": "code",
      "execution_count": null,
      "metadata": {
        "execution": {
          "iopub.execute_input": "2024-06-02T11:12:16.265419Z",
          "iopub.status.busy": "2024-06-02T11:12:16.264652Z",
          "iopub.status.idle": "2024-06-02T11:12:16.34269Z",
          "shell.execute_reply": "2024-06-02T11:12:16.341743Z",
          "shell.execute_reply.started": "2024-06-02T11:12:16.265385Z"
        },
        "id": "Y9KME9I3LGn-",
        "trusted": true
      },
      "outputs": [],
      "source": [
        "# Generate Model\n",
        "model_cnn = cnn_model()\n",
        "\n",
        "# Generate Summary of the Model\n",
        "model_cnn.summary()"
      ]
    },
    {
      "cell_type": "code",
      "execution_count": null,
      "metadata": {
        "execution": {
          "iopub.execute_input": "2024-06-02T11:12:16.344292Z",
          "iopub.status.busy": "2024-06-02T11:12:16.343909Z",
          "iopub.status.idle": "2024-06-02T11:12:17.28131Z",
          "shell.execute_reply": "2024-06-02T11:12:17.280261Z",
          "shell.execute_reply.started": "2024-06-02T11:12:16.344255Z"
        },
        "id": "3hfqBYyYLGn_",
        "trusted": true
      },
      "outputs": [],
      "source": [
        "# Explore model visually\n",
        "plot_model(\n",
        "    model_cnn, dpi=60,\n",
        "    show_shapes=True\n",
        ")"
      ]
    },
    {
      "cell_type": "markdown",
      "metadata": {
        "id": "85z7p9BwLGoA"
      },
      "source": []
    },
    {
      "cell_type": "code",
      "execution_count": null,
      "metadata": {
        "execution": {
          "iopub.execute_input": "2024-06-02T11:12:17.28318Z",
          "iopub.status.busy": "2024-06-02T11:12:17.282843Z",
          "iopub.status.idle": "2024-06-02T11:12:17.292098Z",
          "shell.execute_reply": "2024-06-02T11:12:17.291061Z",
          "shell.execute_reply.started": "2024-06-02T11:12:17.283145Z"
        },
        "id": "tM5MsOXYLGoA",
        "trusted": true
      },
      "outputs": [],
      "source": [
        "def train_model(model, num_epochs, callbacks_list, tf_train_data,\n",
        "                tf_valid_data=None, shuffling=False):\n",
        "    '''\n",
        "        Trains a TensorFlow model and returns a dict object containing the model metrics history data.\n",
        "\n",
        "        @params\n",
        "        - model: (tf.keras.model) -> model to be trained\n",
        "        - num_epochs: (int) -> number of epochs to train the model\n",
        "        - callbacks_list: (list) -> list containing callback fuctions for model\n",
        "        - tf_train_data: (tf.data.Dataset) -> dataset for model to be train on\n",
        "        - tf_valid_data: (tf.data.Dataset) -> dataset for model to be validated on (default=None)\n",
        "        - shuffling: (bool) -> condition for data shuffling, data is shuffled when True (default=False)\n",
        "\n",
        "        @returns\n",
        "        - model_history: (dict) -> dictionary containing loss and metrics values tracked during training\n",
        "    '''\n",
        "\n",
        "    model_history = {}\n",
        "\n",
        "    if tf_valid_data != None:\n",
        "        model_history = model.fit(tf_train_data,\n",
        "                                  epochs=num_epochs,\n",
        "                                  validation_data=tf_valid_data,\n",
        "                                  validation_steps=int(len(tf_valid_data)),\n",
        "                                  callbacks=callbacks_list,\n",
        "                                  shuffle=shuffling)\n",
        "\n",
        "    if tf_valid_data == None:\n",
        "        model_history = model.fit(tf_train_data,\n",
        "                                  epochs=num_epochs,\n",
        "                                  callbacks=callbacks_list,\n",
        "                                  shuffle=shuffling)\n",
        "    return model_history"
      ]
    },
    {
      "cell_type": "code",
      "execution_count": null,
      "metadata": {
        "execution": {
          "iopub.execute_input": "2024-06-02T11:12:17.294614Z",
          "iopub.status.busy": "2024-06-02T11:12:17.293614Z",
          "iopub.status.idle": "2024-06-02T11:12:17.302087Z",
          "shell.execute_reply": "2024-06-02T11:12:17.301186Z",
          "shell.execute_reply.started": "2024-06-02T11:12:17.294576Z"
        },
        "id": "1ERmSg-oLGoA",
        "trusted": true
      },
      "outputs": [],
      "source": [
        "# Define Early Stopping Callback\n",
        "early_stopping_callback = tf.keras.callbacks.EarlyStopping(\n",
        "    monitor='val_loss',\n",
        "    patience=3,\n",
        "    restore_best_weights=True)\n",
        "\n",
        "# Define Reduce Learning Rate Callback\n",
        "reduce_lr_callback = tf.keras.callbacks.ReduceLROnPlateau(\n",
        "    monitor='val_loss',\n",
        "    patience=2,\n",
        "    factor=0.1,\n",
        "    verbose=1)\n",
        "\n",
        "# Define Callbacks and Metrics lists\n",
        "CALLBACKS = [early_stopping_callback, reduce_lr_callback]\n",
        "METRICS = ['accuracy']"
      ]
    },
    {
      "cell_type": "code",
      "execution_count": null,
      "metadata": {
        "execution": {
          "iopub.execute_input": "2024-06-02T11:12:17.303623Z",
          "iopub.status.busy": "2024-06-02T11:12:17.303268Z",
          "iopub.status.idle": "2024-06-02T11:13:38.669289Z",
          "shell.execute_reply": "2024-06-02T11:13:38.668415Z",
          "shell.execute_reply.started": "2024-06-02T11:12:17.303581Z"
        },
        "id": "_Eqqvvf8LGoA",
        "trusted": true
      },
      "outputs": [],
      "source": [
        "tf.random.set_seed(CFG.SEED)\n",
        "\n",
        "# Compile the model\n",
        "model_cnn.compile(\n",
        "    loss=tf.keras.losses.BinaryCrossentropy(),\n",
        "    optimizer=tf.keras.optimizers.Adam(learning_rate=0.001),\n",
        "    metrics=METRICS\n",
        ")\n",
        "\n",
        "# Train the model\n",
        "print(f'Training {model_cnn.name}.')\n",
        "print(f'Train on {len(train_new_df)} samples, validate on {len(val_df)} samples.')\n",
        "print('----------------------------------')\n",
        "\n",
        "cnn_history = train_model(\n",
        "    model_cnn, CFG.EPOCHS, CALLBACKS,\n",
        "    train_ds, val_ds,\n",
        "    shuffling=False\n",
        ")"
      ]
    },
    {
      "cell_type": "code",
      "execution_count": null,
      "metadata": {
        "execution": {
          "iopub.execute_input": "2024-06-02T11:13:38.678049Z",
          "iopub.status.busy": "2024-06-02T11:13:38.67774Z",
          "iopub.status.idle": "2024-06-02T11:13:40.363118Z",
          "shell.execute_reply": "2024-06-02T11:13:40.362338Z",
          "shell.execute_reply.started": "2024-06-02T11:13:38.678019Z"
        },
        "id": "8282w3iOLGoB",
        "trusted": true
      },
      "outputs": [],
      "source": [
        "# Evaluate the model\n",
        "cnn_evaluation = model_cnn.evaluate(test_ds)"
      ]
    },
    {
      "cell_type": "code",
      "execution_count": null,
      "metadata": {
        "execution": {
          "iopub.execute_input": "2024-06-02T11:13:40.364681Z",
          "iopub.status.busy": "2024-06-02T11:13:40.364384Z",
          "iopub.status.idle": "2024-06-02T11:13:41.573428Z",
          "shell.execute_reply": "2024-06-02T11:13:41.572358Z",
          "shell.execute_reply.started": "2024-06-02T11:13:40.364651Z"
        },
        "id": "yf87ZcTULGoB",
        "trusted": true
      },
      "outputs": [],
      "source": [
        "# Generate model probabilities and associated predictions\n",
        "cnn_test_probabilities = model_cnn.predict(test_ds, verbose=1)\n",
        "cnn_test_predictions = tf.argmax(cnn_test_probabilities, axis=1)"
      ]
    },
    {
      "cell_type": "code",
      "execution_count": null,
      "metadata": {
        "execution": {
          "iopub.execute_input": "2024-06-02T11:13:41.575552Z",
          "iopub.status.busy": "2024-06-02T11:13:41.574872Z",
          "iopub.status.idle": "2024-06-02T11:13:41.580782Z",
          "shell.execute_reply": "2024-06-02T11:13:41.579726Z",
          "shell.execute_reply.started": "2024-06-02T11:13:41.575512Z"
        },
        "id": "Mw2z9BHmLGoC",
        "trusted": true
      },
      "outputs": [],
      "source": [
        "# Here's a function to get any model/preprocessor from tensorflow hub\n",
        "def get_tfhub_model(model_link, model_name, model_trainable=False):\n",
        "    return hub.KerasLayer(model_link,\n",
        "                          trainable=model_trainable,\n",
        "                          name=model_name)"
      ]
    },
    {
      "cell_type": "markdown",
      "metadata": {
        "id": "Sn2ZwtNvLGoC"
      },
      "source": [
        "<a id=\"4.1\"></a>\n",
        "### <font color='#478bd6'>Get EfficientNet From TensorFlow Hub</font>"
      ]
    },
    {
      "cell_type": "code",
      "execution_count": null,
      "metadata": {
        "execution": {
          "iopub.execute_input": "2024-06-02T11:13:41.58228Z",
          "iopub.status.busy": "2024-06-02T11:13:41.581969Z",
          "iopub.status.idle": "2024-06-02T11:13:47.745557Z",
          "shell.execute_reply": "2024-06-02T11:13:47.744711Z",
          "shell.execute_reply.started": "2024-06-02T11:13:41.582243Z"
        },
        "id": "rcB4eIaTLGoC",
        "trusted": true
      },
      "outputs": [],
      "source": [
        "# Get EfficientNet V2 B0 here\n",
        "efficientnet_v2_url = 'https://tfhub.dev/google/imagenet/efficientnet_v2_imagenet21k_b0/feature_vector/2'\n",
        "model_name = 'efficientnet_v2_b0'\n",
        "\n",
        "# Set trainable to False for inference-only\n",
        "set_trainable=False\n",
        "\n",
        "efficientnet_v2_b0 = get_tfhub_model(efficientnet_v2_url,\n",
        "                                     model_name,\n",
        "                                     model_trainable=set_trainable)"
      ]
    },
    {
      "cell_type": "markdown",
      "metadata": {
        "id": "lvfnQZv-LGoD"
      },
      "source": [
        "<a id=\"4.2\"></a>\n",
        "### <font color='#478bd6'>Define EfficientNet Model</font>"
      ]
    },
    {
      "cell_type": "code",
      "execution_count": null,
      "metadata": {
        "execution": {
          "iopub.execute_input": "2024-06-02T11:13:47.746961Z",
          "iopub.status.busy": "2024-06-02T11:13:47.74669Z",
          "iopub.status.idle": "2024-06-02T11:13:47.753707Z",
          "shell.execute_reply": "2024-06-02T11:13:47.752807Z",
          "shell.execute_reply.started": "2024-06-02T11:13:47.746935Z"
        },
        "id": "FpGdkDzsLGoD",
        "trusted": true
      },
      "outputs": [],
      "source": [
        "def efficientnet_v2_model():\n",
        "\n",
        "    initializer = tf.keras.initializers.GlorotNormal()\n",
        "\n",
        "    efficientnet_v2_sequential = Sequential([\n",
        "        layers.Input(shape=CFG.IMAGE_SIZE, dtype=tf.float32, name='input_image'),\n",
        "        efficientnet_v2_b0,\n",
        "        layers.Dropout(0.2),\n",
        "        layers.Dense(128, activation='relu', kernel_initializer=initializer),\n",
        "        layers.Dense(2, dtype=tf.float32, activation='sigmoid', kernel_initializer=initializer)\n",
        "    ], name='efficientnet_v2_sequential_model')\n",
        "\n",
        "    return efficientnet_v2_sequential"
      ]
    },
    {
      "cell_type": "code",
      "execution_count": null,
      "metadata": {
        "execution": {
          "iopub.execute_input": "2024-06-02T11:13:47.755349Z",
          "iopub.status.busy": "2024-06-02T11:13:47.754978Z",
          "iopub.status.idle": "2024-06-02T11:13:48.589556Z",
          "shell.execute_reply": "2024-06-02T11:13:48.588578Z",
          "shell.execute_reply.started": "2024-06-02T11:13:47.755312Z"
        },
        "id": "6wWgnqWDLGoE",
        "trusted": true
      },
      "outputs": [],
      "source": [
        "# Generate Model\n",
        "model_efficientnet_v2 = efficientnet_v2_model()\n",
        "\n",
        "# Generate Summary of the Model\n",
        "model_efficientnet_v2.summary()"
      ]
    },
    {
      "cell_type": "code",
      "execution_count": null,
      "metadata": {
        "execution": {
          "iopub.execute_input": "2024-06-02T11:13:48.591086Z",
          "iopub.status.busy": "2024-06-02T11:13:48.590791Z",
          "iopub.status.idle": "2024-06-02T11:13:48.804082Z",
          "shell.execute_reply": "2024-06-02T11:13:48.802882Z",
          "shell.execute_reply.started": "2024-06-02T11:13:48.591057Z"
        },
        "id": "NpH5Pp8VLGoE",
        "trusted": true
      },
      "outputs": [],
      "source": [
        "# Explore model visually\n",
        "plot_model(\n",
        "    model_efficientnet_v2, dpi=60,\n",
        "    show_shapes=True\n",
        ")"
      ]
    },
    {
      "cell_type": "markdown",
      "metadata": {
        "id": "X7pBrmXoLGoE"
      },
      "source": [
        "<a id=\"4.3\"></a>\n",
        "### <font color='#478bd6'>Train EfficientNet Model</font>"
      ]
    },
    {
      "cell_type": "code",
      "execution_count": null,
      "metadata": {
        "execution": {
          "iopub.execute_input": "2024-06-02T11:13:48.806972Z",
          "iopub.status.busy": "2024-06-02T11:13:48.806024Z",
          "iopub.status.idle": "2024-06-02T11:15:38.612222Z",
          "shell.execute_reply": "2024-06-02T11:15:38.611336Z",
          "shell.execute_reply.started": "2024-06-02T11:13:48.806922Z"
        },
        "id": "czA9jVPPLGoF",
        "trusted": true
      },
      "outputs": [],
      "source": [
        "tf.random.set_seed(CFG.SEED)\n",
        "\n",
        "# Compile the model\n",
        "model_efficientnet_v2.compile(\n",
        "    loss=tf.keras.losses.BinaryCrossentropy(),\n",
        "    optimizer=tf.keras.optimizers.Adam(learning_rate=0.001),\n",
        "    metrics=METRICS\n",
        ")\n",
        "\n",
        "# Train the model\n",
        "print(f'Training {model_efficientnet_v2.name}.')\n",
        "print(f'Train on {len(train_new_df)} samples, validate on {len(val_df)} samples.')\n",
        "print('----------------------------------')\n",
        "\n",
        "efficientnet_v2_history = train_model(\n",
        "    model_efficientnet_v2, CFG.EPOCHS, CALLBACKS,\n",
        "    train_ds, val_ds,\n",
        "    shuffling=False\n",
        ")"
      ]
    },
    {
      "cell_type": "code",
      "execution_count": null,
      "metadata": {
        "execution": {
          "iopub.execute_input": "2024-06-02T11:15:38.614613Z",
          "iopub.status.busy": "2024-06-02T11:15:38.614299Z",
          "iopub.status.idle": "2024-06-02T11:15:40.285052Z",
          "shell.execute_reply": "2024-06-02T11:15:40.284208Z",
          "shell.execute_reply.started": "2024-06-02T11:15:38.614586Z"
        },
        "id": "lwWp-kPwLGoF",
        "trusted": true
      },
      "outputs": [],
      "source": [
        "# Evaluate the model\n",
        "efficientnet_v2_evaluation = model_efficientnet_v2.evaluate(test_ds)"
      ]
    },
    {
      "cell_type": "code",
      "execution_count": null,
      "metadata": {
        "execution": {
          "iopub.execute_input": "2024-06-02T11:15:40.286928Z",
          "iopub.status.busy": "2024-06-02T11:15:40.286549Z",
          "iopub.status.idle": "2024-06-02T11:15:42.177781Z",
          "shell.execute_reply": "2024-06-02T11:15:42.176808Z",
          "shell.execute_reply.started": "2024-06-02T11:15:40.28689Z"
        },
        "id": "8GKZ-c5RLGoF",
        "trusted": true
      },
      "outputs": [],
      "source": [
        "# Generate model probabilities and associated predictions\n",
        "efficientnet_v2_test_probabilities = model_efficientnet_v2.predict(test_ds, verbose=1)\n",
        "efficientnet_v2_test_predictions = tf.argmax(efficientnet_v2_test_probabilities, axis=1)"
      ]
    },
    {
      "cell_type": "markdown",
      "metadata": {
        "id": "tVlH18wxLGoK"
      },
      "source": [
        "<a id='6.1'></a>\n",
        "### <font color='#478bd6'>Plot Model Histories</font>"
      ]
    },
    {
      "cell_type": "code",
      "execution_count": null,
      "metadata": {
        "execution": {
          "iopub.execute_input": "2024-06-02T11:21:37.864743Z",
          "iopub.status.busy": "2024-06-02T11:21:37.86441Z",
          "iopub.status.idle": "2024-06-02T11:21:37.879451Z",
          "shell.execute_reply": "2024-06-02T11:21:37.878237Z",
          "shell.execute_reply.started": "2024-06-02T11:21:37.864712Z"
        },
        "id": "AHHbrD4KLGoK",
        "trusted": true
      },
      "outputs": [],
      "source": [
        "def plot_training_curves(history):\n",
        "\n",
        "    loss = np.array(history.history['loss'])\n",
        "    val_loss = np.array(history.history['val_loss'])\n",
        "\n",
        "    accuracy = np.array(history.history['accuracy'])\n",
        "    val_accuracy = np.array(history.history['val_accuracy'])\n",
        "\n",
        "    epochs = range(len(history.history['loss']))\n",
        "\n",
        "    fig, (ax1, ax2) = plt.subplots(1, 2, figsize=(20, 10))\n",
        "\n",
        "    # Plot loss\n",
        "    ax1.plot(epochs, loss, label='training_loss', marker='o')\n",
        "    ax1.plot(epochs, val_loss, label='val_loss', marker='o')\n",
        "\n",
        "    ax1.fill_between(epochs, loss, val_loss, where=(loss > val_loss), color='C0', alpha=0.3, interpolate=True)\n",
        "    ax1.fill_between(epochs, loss, val_loss, where=(loss < val_loss), color='C1', alpha=0.3, interpolate=True)\n",
        "\n",
        "    ax1.set_title('Loss (Lower Means Better)', fontsize=16)\n",
        "    ax1.set_xlabel('Epochs', fontsize=12)\n",
        "    ax1.legend()\n",
        "\n",
        "    # Plot accuracy\n",
        "    ax2.plot(epochs, accuracy, label='training_accuracy', marker='o')\n",
        "    ax2.plot(epochs, val_accuracy, label='val_accuracy', marker='o')\n",
        "\n",
        "    ax2.fill_between(epochs, accuracy, val_accuracy, where=(accuracy > val_accuracy), color='C0', alpha=0.3, interpolate=True)\n",
        "    ax2.fill_between(epochs, accuracy, val_accuracy, where=(accuracy < val_accuracy), color='C1', alpha=0.3, interpolate=True)\n",
        "\n",
        "    ax2.set_title('Accuracy (Higher Means Better)', fontsize=16)\n",
        "    ax2.set_xlabel('Epochs', fontsize=12)\n",
        "    ax2.legend();"
      ]
    },
    {
      "cell_type": "code",
      "execution_count": null,
      "metadata": {
        "execution": {
          "iopub.execute_input": "2024-06-02T11:21:37.881085Z",
          "iopub.status.busy": "2024-06-02T11:21:37.880777Z",
          "iopub.status.idle": "2024-06-02T11:21:38.302748Z",
          "shell.execute_reply": "2024-06-02T11:21:38.301712Z",
          "shell.execute_reply.started": "2024-06-02T11:21:37.881058Z"
        },
        "id": "yrhQdAqJLGoL",
        "trusted": true
      },
      "outputs": [],
      "source": [
        "# plot cnn model training history\n",
        "plot_training_curves(cnn_history)"
      ]
    },
    {
      "cell_type": "code",
      "execution_count": null,
      "metadata": {
        "execution": {
          "iopub.execute_input": "2024-06-02T11:21:38.304322Z",
          "iopub.status.busy": "2024-06-02T11:21:38.30399Z",
          "iopub.status.idle": "2024-06-02T11:21:38.710202Z",
          "shell.execute_reply": "2024-06-02T11:21:38.70935Z",
          "shell.execute_reply.started": "2024-06-02T11:21:38.304293Z"
        },
        "id": "WudT7FYmLGoL",
        "trusted": true
      },
      "outputs": [],
      "source": [
        "# Plot EfficientNet V2 B0 model training history\n",
        "plot_training_curves(efficientnet_v2_history)"
      ]
    },
    {
      "cell_type": "markdown",
      "metadata": {
        "id": "OcRhm03hLGoN"
      },
      "source": [
        "<a id='6.2'></a>\n",
        "### <font color='#478bd6'>Plot Confusion Matrix</font>"
      ]
    },
    {
      "cell_type": "code",
      "execution_count": null,
      "metadata": {
        "execution": {
          "iopub.execute_input": "2024-06-02T11:21:39.04308Z",
          "iopub.status.busy": "2024-06-02T11:21:39.042713Z",
          "iopub.status.idle": "2024-06-02T11:21:39.052936Z",
          "shell.execute_reply": "2024-06-02T11:21:39.051884Z",
          "shell.execute_reply.started": "2024-06-02T11:21:39.043041Z"
        },
        "id": "fhNlceLgLGoN",
        "trusted": true
      },
      "outputs": [],
      "source": [
        "def plot_confusion_matrix(y_true, y_pred, classes='auto', figsize=(10, 10), text_size=12):\n",
        "    # Generate confusion matrix\n",
        "    cm = confusion_matrix(y_true, y_pred)\n",
        "\n",
        "    # Set plot size\n",
        "    plt.figure(figsize=figsize)\n",
        "\n",
        "    # Create confusion matrix heatmap\n",
        "    disp = sns.heatmap(\n",
        "        cm, annot=True, cmap='Greens',\n",
        "        annot_kws={\"size\": text_size}, fmt='g',\n",
        "        linewidths=1, linecolor='black', clip_on=False,\n",
        "        xticklabels=classes, yticklabels=classes)\n",
        "\n",
        "    # Set title and axis labels\n",
        "    disp.set_title('Confusion Matrix', fontsize=24)\n",
        "    disp.set_xlabel('Predicted Label', fontsize=20)\n",
        "    disp.set_ylabel('True Label', fontsize=20)\n",
        "    plt.yticks(rotation=0)\n",
        "\n",
        "    # Plot confusion matrix\n",
        "    plt.show()\n",
        "\n",
        "    return"
      ]
    },
    {
      "cell_type": "markdown",
      "metadata": {
        "id": "HXUJEaYyLGoO"
      },
      "source": [
        "### <font color='#478bd6'>CNN Confusion Matrix</font>"
      ]
    },
    {
      "cell_type": "code",
      "execution_count": null,
      "metadata": {
        "execution": {
          "iopub.execute_input": "2024-06-02T11:21:39.054504Z",
          "iopub.status.busy": "2024-06-02T11:21:39.05417Z",
          "iopub.status.idle": "2024-06-02T11:21:39.244459Z",
          "shell.execute_reply": "2024-06-02T11:21:39.243503Z",
          "shell.execute_reply.started": "2024-06-02T11:21:39.054475Z"
        },
        "id": "6MIUuRA7LGoP",
        "trusted": true
      },
      "outputs": [],
      "source": [
        "class_names = ['jerawat', 'normal']\n",
        "\n",
        "plot_confusion_matrix(\n",
        "    test_df.label_encoded,\n",
        "    cnn_test_predictions,\n",
        "    figsize=(8, 8),\n",
        "    classes=class_names)"
      ]
    },
    {
      "cell_type": "markdown",
      "metadata": {
        "id": "xdJcQWJ0LGoP"
      },
      "source": [
        "### <font color='#478bd6'>EfficientNet V2 B0 Confusion Matrix</font>"
      ]
    },
    {
      "cell_type": "code",
      "execution_count": null,
      "metadata": {
        "execution": {
          "iopub.execute_input": "2024-06-02T11:21:39.246163Z",
          "iopub.status.busy": "2024-06-02T11:21:39.245797Z",
          "iopub.status.idle": "2024-06-02T11:21:39.431011Z",
          "shell.execute_reply": "2024-06-02T11:21:39.430036Z",
          "shell.execute_reply.started": "2024-06-02T11:21:39.246125Z"
        },
        "id": "WJ3wU9wLLGoQ",
        "trusted": true
      },
      "outputs": [],
      "source": [
        "plot_confusion_matrix(\n",
        "    test_df.label_encoded,\n",
        "    efficientnet_v2_test_predictions,\n",
        "    figsize=(8, 8),\n",
        "    classes=class_names)"
      ]
    },
    {
      "cell_type": "markdown",
      "metadata": {
        "id": "JHap2XDULGoR"
      },
      "source": [
        "### <font color='#478bd6'>ViT-b16 Confusion Matrix</font>"
      ]
    },
    {
      "cell_type": "code",
      "execution_count": null,
      "metadata": {
        "execution": {
          "iopub.execute_input": "2024-06-02T11:21:39.433228Z",
          "iopub.status.busy": "2024-06-02T11:21:39.432597Z",
          "iopub.status.idle": "2024-06-02T11:21:39.611815Z",
          "shell.execute_reply": "2024-06-02T11:21:39.610704Z",
          "shell.execute_reply.started": "2024-06-02T11:21:39.43317Z"
        },
        "id": "IzTqRcKZLGoR",
        "trusted": true
      },
      "outputs": [],
      "source": [
        "plot_confusion_matrix(\n",
        "    test_df.label_encoded,\n",
        "    vit_b16_test_predictions,\n",
        "    figsize=(8, 8),\n",
        "    classes=class_names)"
      ]
    },
    {
      "cell_type": "markdown",
      "metadata": {
        "id": "q37jjUfBLGoR"
      },
      "source": []
    },
    {
      "cell_type": "markdown",
      "metadata": {
        "id": "vncnIHwGLGoR"
      },
      "source": [
        "### <font color='#478bd6'>CNN ROC Curves</font>"
      ]
    },
    {
      "cell_type": "code",
      "execution_count": null,
      "metadata": {
        "execution": {
          "iopub.execute_input": "2024-06-02T11:21:39.614006Z",
          "iopub.status.busy": "2024-06-02T11:21:39.613631Z",
          "iopub.status.idle": "2024-06-02T11:21:39.807287Z",
          "shell.execute_reply": "2024-06-02T11:21:39.806357Z",
          "shell.execute_reply.started": "2024-06-02T11:21:39.613969Z"
        },
        "id": "qsrttdg4LGoS",
        "trusted": true
      },
      "outputs": [],
      "source": [
        "plot_roc(test_df.label_encoded,\n",
        "         cnn_test_probabilities,\n",
        "         figsize=(10, 10), title_fontsize='large');"
      ]
    },
    {
      "cell_type": "markdown",
      "metadata": {
        "id": "odCjjmQ4LGoT"
      },
      "source": [
        "<a id='6.4'></a>\n",
        "### <font color='#478bd6'>View Classification Reports</font>"
      ]
    },
    {
      "cell_type": "code",
      "execution_count": null,
      "metadata": {
        "execution": {
          "iopub.execute_input": "2024-06-02T11:21:40.319682Z",
          "iopub.status.busy": "2024-06-02T11:21:40.319368Z",
          "iopub.status.idle": "2024-06-02T11:21:40.330583Z",
          "shell.execute_reply": "2024-06-02T11:21:40.329537Z",
          "shell.execute_reply.started": "2024-06-02T11:21:40.319654Z"
        },
        "id": "_5iN3t1KLGoT",
        "trusted": true
      },
      "outputs": [],
      "source": [
        "# CNN ROC Curves\n",
        "print(classification_report(test_df.label_encoded,\n",
        "                            cnn_test_predictions,\n",
        "                            target_names=class_names))"
      ]
    },
    {
      "cell_type": "markdown",
      "metadata": {
        "id": "iXcc-V20LGoT"
      },
      "source": [
        "<a id='6.5'></a>\n",
        "### <font color='#478bd6'>Record Classification Metrics</font>"
      ]
    },
    {
      "cell_type": "code",
      "execution_count": null,
      "metadata": {
        "execution": {
          "iopub.execute_input": "2024-06-02T11:21:40.360745Z",
          "iopub.status.busy": "2024-06-02T11:21:40.360091Z",
          "iopub.status.idle": "2024-06-02T11:21:40.369447Z",
          "shell.execute_reply": "2024-06-02T11:21:40.368383Z",
          "shell.execute_reply.started": "2024-06-02T11:21:40.360708Z"
        },
        "id": "NOCWYTWyLGoU",
        "trusted": true
      },
      "outputs": [],
      "source": [
        "def generate_preformance_scores(y_true, y_pred, y_probabilities):\n",
        "\n",
        "    model_accuracy = accuracy_score(y_true, y_pred)\n",
        "    model_precision, model_recall, model_f1, _ = (\n",
        "        precision_recall_fscore_support(\n",
        "            y_true,\n",
        "            y_pred,\n",
        "            average=\"weighted\"\n",
        "        )\n",
        "    )\n",
        "    model_matthews_corrcoef = matthews_corrcoef(y_true, y_pred)\n",
        "\n",
        "    print('=============================================')\n",
        "    print(f'\\nPerformance Metrics:\\n')\n",
        "    print('=============================================')\n",
        "    print(f'accuracy_score:\\t\\t{model_accuracy:.4f}\\n')\n",
        "    print('_____________________________________________')\n",
        "    print(f'precision_score:\\t{model_precision:.4f}\\n')\n",
        "    print('_____________________________________________')\n",
        "    print(f'recall_score:\\t\\t{model_recall:.4f}\\n')\n",
        "    print('_____________________________________________')\n",
        "    print(f'f1_score:\\t\\t{model_f1:.4f}\\n')\n",
        "    print('_____________________________________________')\n",
        "    print(f'matthews_corrcoef:\\t{model_matthews_corrcoef:.4f}\\n')\n",
        "    print('=============================================')\n",
        "\n",
        "    preformance_scores = {\n",
        "        'accuracy_score': model_accuracy,\n",
        "        'precision_score': model_precision,\n",
        "        'recall_score': model_recall,\n",
        "        'f1_score': model_f1,\n",
        "        'matthews_corrcoef': model_matthews_corrcoef\n",
        "    }\n",
        "    return preformance_scores\n"
      ]
    },
    {
      "cell_type": "code",
      "execution_count": null,
      "metadata": {
        "execution": {
          "iopub.execute_input": "2024-06-02T11:21:40.370982Z",
          "iopub.status.busy": "2024-06-02T11:21:40.370653Z",
          "iopub.status.idle": "2024-06-02T11:21:40.380949Z",
          "shell.execute_reply": "2024-06-02T11:21:40.379722Z",
          "shell.execute_reply.started": "2024-06-02T11:21:40.370955Z"
        },
        "id": "n-LID0IFLGoU",
        "trusted": true
      },
      "outputs": [],
      "source": [
        "# Generate CNN model performance scores\n",
        "cnn_performance = generate_preformance_scores(test_df.label_encoded,\n",
        "                                              cnn_test_predictions,\n",
        "                                              cnn_test_probabilities)"
      ]
    },
    {
      "cell_type": "code",
      "execution_count": null,
      "metadata": {
        "execution": {
          "iopub.execute_input": "2024-06-02T11:21:40.405716Z",
          "iopub.status.busy": "2024-06-02T11:21:40.405337Z",
          "iopub.status.idle": "2024-06-02T11:21:40.421099Z",
          "shell.execute_reply": "2024-06-02T11:21:40.420047Z",
          "shell.execute_reply.started": "2024-06-02T11:21:40.40568Z"
        },
        "id": "ZowZxihrLGoV",
        "trusted": true
      },
      "outputs": [],
      "source": [
        "# Record metrics with DataFrame\n",
        "performance_df = pd.DataFrame({\n",
        "    'model_cnn': cnn_performance,\n",
        "}).T\n",
        "\n",
        "# View Performance DataFrame\n",
        "performance_df"
      ]
    },
    {
      "cell_type": "markdown",
      "metadata": {
        "id": "hLwRi1NfLGoZ"
      },
      "source": [
        "<a id='6.7'></a>\n",
        "### <font color='#478bd6'>View Test Predictions</font>"
      ]
    },
    {
      "cell_type": "code",
      "execution_count": null,
      "metadata": {
        "execution": {
          "iopub.execute_input": "2024-06-02T11:22:18.362361Z",
          "iopub.status.busy": "2024-06-02T11:22:18.362008Z",
          "iopub.status.idle": "2024-06-02T11:22:18.379055Z",
          "shell.execute_reply": "2024-06-02T11:22:18.378161Z",
          "shell.execute_reply.started": "2024-06-02T11:22:18.362332Z"
        },
        "id": "w1yQT0otLGoZ",
        "trusted": true
      },
      "outputs": [],
      "source": [
        "test_df"
      ]
    },
    {
      "cell_type": "code",
      "execution_count": null,
      "metadata": {
        "execution": {
          "iopub.execute_input": "2024-06-02T11:22:18.38045Z",
          "iopub.status.busy": "2024-06-02T11:22:18.380139Z",
          "iopub.status.idle": "2024-06-02T11:22:18.393726Z",
          "shell.execute_reply": "2024-06-02T11:22:18.392872Z",
          "shell.execute_reply.started": "2024-06-02T11:22:18.380423Z"
        },
        "id": "ihRUKtlwLGoa",
        "trusted": true
      },
      "outputs": [],
      "source": [
        "def view_multiple_predictions(df, model, sample_loader, count=10, color_map='rgb', title=None, fig_size=(14, 10)):\n",
        "    rows = count//5\n",
        "    if count%5 > 0:\n",
        "        rows +=1\n",
        "\n",
        "    idx = random.sample(df.index.to_list(), count)\n",
        "\n",
        "    fig = plt.figure(figsize=fig_size)\n",
        "    if title != None:\n",
        "        fig.suptitle(title, fontsize=30)\n",
        "\n",
        "    fig.tight_layout()\n",
        "    fig.subplots_adjust(top=0.95)\n",
        "\n",
        "    # Setup useful dictionaries\n",
        "    label_set = {0: 'normal', 1: 'jerawat'}\n",
        "    color_set = {False: 'red', True: 'darkgreen'}\n",
        "\n",
        "    for column, _ in enumerate(idx):\n",
        "        # Predict label\n",
        "        img = sample_loader(df.image_path[_])\n",
        "        probability = np.squeeze(\n",
        "            model.predict(np.array([img]), verbose=0)\n",
        "        )\n",
        "        prediction = np.argmax(probability)\n",
        "\n",
        "        # Validate prediction correctness\n",
        "        correct_prediction = (prediction == df.label_encoded[_])\n",
        "\n",
        "        # Create subplot and assign title\n",
        "        ax = plt.subplot(rows, 5, column+1)\n",
        "        ax.set_title(\n",
        "            f'Actual Label: {df.label[_]}',\n",
        "            pad=20,\n",
        "            fontsize=14,\n",
        "            color=color_set[correct_prediction]\n",
        "        )\n",
        "\n",
        "        # Plot image\n",
        "        if color_map=='rgb':\n",
        "            ax.imshow(img)\n",
        "        else:\n",
        "            ax.imshow(tf.image.rgb_to_grayscale(img), cmap=color_map)\n",
        "\n",
        "        # Plot prediction  & probability\n",
        "        txt = f'Prediction: {label_set[prediction]}\\nProbability: {(100 * probability[prediction]):.2f}%'\n",
        "        plt.xlabel(txt, fontsize=14, color=color_set[correct_prediction])\n",
        "\n",
        "    return"
      ]
    },
    {
      "cell_type": "code",
      "execution_count": null,
      "metadata": {
        "execution": {
          "iopub.execute_input": "2024-06-02T11:22:18.395322Z",
          "iopub.status.busy": "2024-06-02T11:22:18.394931Z",
          "iopub.status.idle": "2024-06-02T11:22:23.145138Z",
          "shell.execute_reply": "2024-06-02T11:22:23.143913Z",
          "shell.execute_reply.started": "2024-06-02T11:22:18.395293Z"
        },
        "id": "G3oI22NkLGoa",
        "trusted": true
      },
      "outputs": [],
      "source": [
        "# View CNN predictions\n",
        "view_multiple_predictions(\n",
        "    test_df,\n",
        "    model_cnn,\n",
        "    _load,\n",
        "    count=25,\n",
        "    color_map='inferno',\n",
        "    title='CNN Test Predictions',\n",
        "    fig_size=(20, 28)\n",
        ")"
      ]
    },
    {
      "cell_type": "code",
      "execution_count": null,
      "metadata": {
        "execution": {
          "iopub.execute_input": "2024-06-02T11:22:23.146781Z",
          "iopub.status.busy": "2024-06-02T11:22:23.146454Z",
          "iopub.status.idle": "2024-06-02T11:22:23.227031Z",
          "shell.execute_reply": "2024-06-02T11:22:23.226179Z",
          "shell.execute_reply.started": "2024-06-02T11:22:23.146752Z"
        },
        "id": "1AWqPUheLGob",
        "trusted": true
      },
      "outputs": [],
      "source": [
        "# Simpan model dalam format H5\n",
        "model_cnn.save('model_cnn.h5')"
      ]
    },
    {
      "cell_type": "code",
      "execution_count": null,
      "metadata": {
        "execution": {
          "iopub.execute_input": "2024-06-02T11:22:23.228607Z",
          "iopub.status.busy": "2024-06-02T11:22:23.228304Z",
          "iopub.status.idle": "2024-06-02T11:22:23.371484Z",
          "shell.execute_reply": "2024-06-02T11:22:23.370433Z",
          "shell.execute_reply.started": "2024-06-02T11:22:23.228578Z"
        },
        "id": "ckBYZdz0LGob",
        "trusted": true
      },
      "outputs": [],
      "source": [
        "import tensorflow as tf\n",
        "\n",
        "# Muat model\n",
        "model = tf.keras.models.load_model('model_cnn.h5')\n"
      ]
    },
    {
      "cell_type": "code",
      "execution_count": null,
      "metadata": {
        "execution": {
          "iopub.execute_input": "2024-06-02T11:22:23.37325Z",
          "iopub.status.busy": "2024-06-02T11:22:23.372846Z",
          "iopub.status.idle": "2024-06-02T11:22:25.712803Z",
          "shell.execute_reply": "2024-06-02T11:22:25.711619Z",
          "shell.execute_reply.started": "2024-06-02T11:22:23.373187Z"
        },
        "id": "lVGgUsTZLGob",
        "trusted": true
      },
      "outputs": [],
      "source": [
        "# Buat converter\n",
        "converter = tf.lite.TFLiteConverter.from_keras_model(model)\n",
        "\n",
        "# Konversi model ke format TFLite\n",
        "tflite_model = converter.convert()\n",
        "\n",
        "# Simpan model TFLite\n",
        "with open('model_cnn.tflite', 'wb') as f:\n",
        "    f.write(tflite_model)\n"
      ]
    },
    {
      "cell_type": "code",
      "execution_count": null,
      "metadata": {
        "execution": {
          "iopub.execute_input": "2024-06-02T11:22:25.714786Z",
          "iopub.status.busy": "2024-06-02T11:22:25.714333Z",
          "iopub.status.idle": "2024-06-02T11:22:25.741258Z",
          "shell.execute_reply": "2024-06-02T11:22:25.740172Z",
          "shell.execute_reply.started": "2024-06-02T11:22:25.714726Z"
        },
        "id": "wW17KSjpLGoc",
        "trusted": true
      },
      "outputs": [],
      "source": [
        "import tensorflow as tf\n",
        "\n",
        "# Load the TFLite model\n",
        "interpreter = tf.lite.Interpreter(model_path='model_cnn.tflite')\n",
        "interpreter.allocate_tensors()\n",
        "\n",
        "# Get input and output tensors\n",
        "input_details = interpreter.get_input_details()\n",
        "output_details = interpreter.get_output_details()\n"
      ]
    },
    {
      "cell_type": "code",
      "execution_count": null,
      "metadata": {
        "execution": {
          "iopub.execute_input": "2024-06-02T11:22:25.742992Z",
          "iopub.status.busy": "2024-06-02T11:22:25.742619Z",
          "iopub.status.idle": "2024-06-02T11:22:25.758071Z",
          "shell.execute_reply": "2024-06-02T11:22:25.756993Z",
          "shell.execute_reply.started": "2024-06-02T11:22:25.742957Z"
        },
        "id": "DWgyuIB6LGoc",
        "trusted": true
      },
      "outputs": [],
      "source": [
        "import matplotlib.pyplot as plt\n",
        "import numpy as np\n",
        "import random\n",
        "\n",
        "def view_multiple_predictions(df, interpreter, sample_loader, count=10, color_map='rgb', title=None, fig_size=(14, 10)):\n",
        "    rows = count // 5\n",
        "    if count % 5 > 0:\n",
        "        rows += 1\n",
        "\n",
        "    idx = random.sample(df.index.to_list(), count)\n",
        "\n",
        "    fig = plt.figure(figsize=fig_size)\n",
        "    if title is not None:\n",
        "        fig.suptitle(title, fontsize=30)\n",
        "\n",
        "    fig.tight_layout()\n",
        "    fig.subplots_adjust(top=0.95)\n",
        "\n",
        "    # Setup useful dictionaries\n",
        "    label_set = {0: 'normal', 1: 'jerawat'}\n",
        "    color_set = {False: 'red', True: 'darkgreen'}\n",
        "\n",
        "    for column, _ in enumerate(idx):\n",
        "        # Predict label\n",
        "        img = sample_loader(df.image_path[_])\n",
        "        input_data = np.expand_dims(img, axis=0).astype(np.float32)\n",
        "\n",
        "        interpreter.set_tensor(input_details[0]['index'], input_data)\n",
        "        interpreter.invoke()\n",
        "        probability = interpreter.get_tensor(output_details[0]['index'])\n",
        "        prediction = np.argmax(probability)\n",
        "\n",
        "        # Validate prediction correctness\n",
        "        correct_prediction = (prediction == df.label_encoded[_])\n",
        "\n",
        "        # Create subplot and assign title\n",
        "        ax = plt.subplot(rows, 5, column + 1)\n",
        "        ax.set_title(\n",
        "            f'Actual Label: {df.label[_]}',\n",
        "            pad=20,\n",
        "            fontsize=14,\n",
        "            color=color_set[correct_prediction]\n",
        "        )\n",
        "\n",
        "        # Plot image\n",
        "        if color_map == 'rgb':\n",
        "            ax.imshow(img)\n",
        "        else:\n",
        "            ax.imshow(tf.image.rgb_to_grayscale(img), cmap=color_map)\n",
        "\n",
        "        # Plot prediction & probability\n",
        "        txt = f'Prediction: {label_set[prediction]}\\nProbability: {(100 * probability[0][prediction]):.2f}%'\n",
        "        plt.xlabel(txt, fontsize=14, color=color_set[correct_prediction])\n",
        "\n",
        "    plt.show()\n"
      ]
    },
    {
      "cell_type": "code",
      "execution_count": null,
      "metadata": {
        "execution": {
          "iopub.execute_input": "2024-06-02T11:22:25.760004Z",
          "iopub.status.busy": "2024-06-02T11:22:25.759346Z",
          "iopub.status.idle": "2024-06-02T11:22:29.806483Z",
          "shell.execute_reply": "2024-06-02T11:22:29.805089Z",
          "shell.execute_reply.started": "2024-06-02T11:22:25.759976Z"
        },
        "id": "mnpmU0tOLGod",
        "trusted": true
      },
      "outputs": [],
      "source": [
        "# Contoh fungsi untuk memuat dan memproses gambar\n",
        "def sample_loader(image_path):\n",
        "    img = tf.keras.preprocessing.image.load_img(image_path, target_size=(224, 224))\n",
        "    img = tf.keras.preprocessing.image.img_to_array(img)\n",
        "    img = img / 255.0  # Normalisasi jika diperlukan\n",
        "    return img\n",
        "\n",
        "# Panggil fungsi untuk melihat prediksi pada dataset uji tanpa colormap inferno\n",
        "view_multiple_predictions(\n",
        "    test_df,         # DataFrame dataset uji\n",
        "    interpreter,     # TFLite Interpreter\n",
        "    sample_loader,   # Fungsi untuk memuat gambar\n",
        "    count=25,\n",
        "    color_map='rgb',  # Default color map atau bisa diganti dengan 'grayscale'\n",
        "    title='CNN Test Predictions',\n",
        "    fig_size=(20, 28)\n",
        ")\n"
      ]
    },
    {
      "cell_type": "markdown",
      "metadata": {
        "id": "eKsuO6rdLGoe"
      },
      "source": []
    },
    {
      "cell_type": "markdown",
      "metadata": {
        "id": "p_mObSz6LGoe"
      },
      "source": []
    }
  ],
  "metadata": {
    "colab": {
      "name": "Transfer Learning | SkinClassification ",
      "provenance": []
    },
    "kaggle": {
      "accelerator": "nvidiaTeslaT4",
      "dataSources": [
        {
          "datasetId": 5133455,
          "sourceId": 8583434,
          "sourceType": "datasetVersion"
        }
      ],
      "dockerImageVersionId": 30370,
      "isGpuEnabled": true,
      "isInternetEnabled": true,
      "language": "python",
      "sourceType": "notebook"
    },
    "kernelspec": {
      "display_name": "Python 3",
      "language": "python",
      "name": "python3"
    },
    "language_info": {
      "codemirror_mode": {
        "name": "ipython",
        "version": 3
      },
      "file_extension": ".py",
      "mimetype": "text/x-python",
      "name": "python",
      "nbconvert_exporter": "python",
      "pygments_lexer": "ipython3",
      "version": "3.7.12"
    }
  },
  "nbformat": 4,
  "nbformat_minor": 0
}
